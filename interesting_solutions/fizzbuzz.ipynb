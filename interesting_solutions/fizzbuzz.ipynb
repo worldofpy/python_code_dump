{
 "metadata": {
  "language_info": {
   "codemirror_mode": {
    "name": "ipython",
    "version": 3
   },
   "file_extension": ".py",
   "mimetype": "text/x-python",
   "name": "python",
   "nbconvert_exporter": "python",
   "pygments_lexer": "ipython3",
   "version": "3.8.5-final"
  },
  "orig_nbformat": 2,
  "kernelspec": {
   "name": "python38564bit19ca4e67bf3648e69c935af6c4505b99",
   "display_name": "Python 3.8.5 64-bit",
   "language": "python"
  }
 },
 "nbformat": 4,
 "nbformat_minor": 2,
 "cells": [
  {
   "source": [
    "## FizzBuzz problem\n",
    "For a range of numbers print:\n",
    "- 'Fizz' if it is divisible by 3\n",
    "- 'Buzz' if it is divisible by 5\n",
    "- 'FizzBuzz' if it is divisible by both 3 & 5\n",
    "-  the number itself if none of the above conditions are satisfied  \n",
    "\n",
    "One condition:\n",
    "*Do not use 'if'.*"
   ],
   "cell_type": "markdown",
   "metadata": {}
  },
  {
   "source": [
    "#### Solution"
   ],
   "cell_type": "markdown",
   "metadata": {}
  },
  {
   "cell_type": "code",
   "execution_count": 3,
   "metadata": {},
   "outputs": [
    {
     "output_type": "stream",
     "name": "stdout",
     "text": [
      "1 2 Fizz 4 Buzz Fizz 7 8 Fizz Buzz 11 Fizz 13 14 FizzBuzz "
     ]
    }
   ],
   "source": [
    "for i in range(1, 16):\n",
    "    print('Fizz' * (i % 3 == 0) + 'Buzz' * (i % 5 == 0) or i, end=' ')"
   ]
  }
 ]
}